{
 "cells": [
  {
   "cell_type": "code",
   "execution_count": 45,
   "metadata": {},
   "outputs": [],
   "source": [
    "class Matrix:\n",
    "    def __init__(self,a,b,c,d):\n",
    "        self.a=a\n",
    "        self.b=b\n",
    "        self.c=c\n",
    "        self.d=d\n",
    "    \n",
    "    def __repr__(self):\n",
    "        s=f'[[{self.a}, {self.b}],\\n  [{self.c}, {self.d}]]'\n",
    "        return s\n",
    "    \n",
    "    def add(self,given):\n",
    "        return Matrix(self.a+given.a,self.b+given.b,self.c+given.c,self.d+given.d)\n",
    "    \n",
    "    def mul(self,given):\n",
    "        return Matrix(self.a*given.a + self.b*given.c, self.a*given.b + self.b*given.d,\\\n",
    "                                self.c*given.a + self.d*given.c, self.c*given.b + self.d*given.d) \n",
    "    \n",
    "    def nummul(self,s):\n",
    "        return Matrix(self.a*s,self.b*s, self.c*s, self.d*s)"
   ]
  },
  {
   "cell_type": "code",
   "execution_count": 54,
   "metadata": {},
   "outputs": [],
   "source": [
    "def exponential(x):\n",
    "    upto=100\n",
    "    ans=Matrix(1,0,0,1)\n",
    "    fact_k=1\n",
    "    x_i=Matrix(1,0,0,1)\n",
    "    for i in range(1,upto):\n",
    "        fact_k*=i\n",
    "        x_i=x_i.mul(x)\n",
    "        temp=x_i.nummul(1/(fact_k))\n",
    "        ans=ans.add(temp)\n",
    "    \n",
    "    return ans"
   ]
  },
  {
   "cell_type": "code",
   "execution_count": 55,
   "metadata": {},
   "outputs": [
    {
     "name": "stdout",
     "output_type": "stream",
     "text": [
      "[[51.96895619870501, 74.73656456700324],\n",
      "  [112.10484685050481, 164.07380304920989]]\n"
     ]
    }
   ],
   "source": [
    "m=Matrix(1,2,3,4)\n",
    "print(exponential(m))"
   ]
  }
 ],
 "metadata": {
  "kernelspec": {
   "display_name": "Python 3",
   "language": "python",
   "name": "python3"
  },
  "language_info": {
   "codemirror_mode": {
    "name": "ipython",
    "version": 3
   },
   "file_extension": ".py",
   "mimetype": "text/x-python",
   "name": "python",
   "nbconvert_exporter": "python",
   "pygments_lexer": "ipython3",
   "version": "3.6.1"
  }
 },
 "nbformat": 4,
 "nbformat_minor": 2
}
