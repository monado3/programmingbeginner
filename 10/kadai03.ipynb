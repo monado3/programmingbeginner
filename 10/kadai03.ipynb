{
 "cells": [
  {
   "cell_type": "code",
   "execution_count": 43,
   "metadata": {
    "collapsed": true
   },
   "outputs": [],
   "source": [
    "from random import random"
   ]
  },
  {
   "cell_type": "code",
   "execution_count": 44,
   "metadata": {
    "collapsed": true
   },
   "outputs": [],
   "source": [
    "class Randomwalk:\n",
    "    def __init__(self,p,x0):\n",
    "        if not 0<=p<=1:\n",
    "            raise ValueError(\"'p' needs to be 0 <= p <= 1\")\n",
    "        elif type(x0)!= int:\n",
    "            raise TypeError(\"'x0' needs to be int.\")\n",
    "        else:\n",
    "            self.p=p\n",
    "            self.x=x0\n",
    "    \n",
    "    def __next__(self):\n",
    "        if random()<self.p:\n",
    "            self.x+=1\n",
    "        else:\n",
    "            self.x-=1\n",
    "        return self.x       "
   ]
  },
  {
   "cell_type": "code",
   "execution_count": 45,
   "metadata": {},
   "outputs": [
    {
     "name": "stdout",
     "output_type": "stream",
     "text": [
      "[109, 110, 111, 110, 109, 108, 109, 108, 109, 110]\n"
     ]
    }
   ],
   "source": [
    "r=Randomwalk(0.6,110)\n",
    "l=[next(r) for i in range(10)]\n",
    "print(l)"
   ]
  }
 ],
 "metadata": {
  "kernelspec": {
   "display_name": "Python 3",
   "language": "python",
   "name": "python3"
  },
  "language_info": {
   "codemirror_mode": {
    "name": "ipython",
    "version": 3
   },
   "file_extension": ".py",
   "mimetype": "text/x-python",
   "name": "python",
   "nbconvert_exporter": "python",
   "pygments_lexer": "ipython3",
   "version": "3.6.1"
  }
 },
 "nbformat": 4,
 "nbformat_minor": 2
}
