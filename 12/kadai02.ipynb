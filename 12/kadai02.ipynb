{
 "cells": [
  {
   "cell_type": "code",
   "execution_count": 19,
   "metadata": {
    "collapsed": true
   },
   "outputs": [],
   "source": [
    "def dintegral(func,start,end,npart):#台形近似を使用\n",
    "    '''func:被積分関数\n",
    "        start:積分区間の下端\n",
    "        end:積分区間の上端\n",
    "        npart:区間を何等分するか'''\n",
    "    dx=(end-start)/npart\n",
    "    x_i = start\n",
    "    y_i = func(start)\n",
    "    ans = 0.0\n",
    "    x_i += dx\n",
    "    while x_i < end :\n",
    "        y_nexti = func(x_i)\n",
    "        ans+= 0.5*dx*(y_i+y_nexti)\n",
    "        y_i = y_nexti\n",
    "        x_i += dx\n",
    "    print(ans)"
   ]
  },
  {
   "cell_type": "code",
   "execution_count": 21,
   "metadata": {},
   "outputs": [
    {
     "name": "stdout",
     "output_type": "stream",
     "text": [
      "383.33349999998956\n"
     ]
    }
   ],
   "source": [
    "dintegral(lambda x: x+x**2, 0, 10, 1000)"
   ]
  }
 ],
 "metadata": {
  "kernelspec": {
   "display_name": "Python 3",
   "language": "python",
   "name": "python3"
  },
  "language_info": {
   "codemirror_mode": {
    "name": "ipython",
    "version": 3
   },
   "file_extension": ".py",
   "mimetype": "text/x-python",
   "name": "python",
   "nbconvert_exporter": "python",
   "pygments_lexer": "ipython3",
   "version": "3.6.1"
  }
 },
 "nbformat": 4,
 "nbformat_minor": 2
}
