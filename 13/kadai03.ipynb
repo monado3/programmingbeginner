{
 "cells": [
  {
   "cell_type": "code",
   "execution_count": 3,
   "metadata": {
    "collapsed": true
   },
   "outputs": [],
   "source": [
    "import sympy as sy\n",
    "def taylor(func, x , x0, degrees):\n",
    "    ans = 0\n",
    "    ndifffunc = func\n",
    "    factorial = 1\n",
    "    for degree in range(degrees):\n",
    "        if degree == 0:\n",
    "            ans+= func.subs([(x,x0)])\n",
    "        else:\n",
    "            ndifffunc = sy.diff(ndifffunc, x)\n",
    "            factorial*=degree\n",
    "            ans += (ndifffunc.subs([(x,x0)])*(x-x0)**degree)/factorial\n",
    "    return ans"
   ]
  },
  {
   "cell_type": "code",
   "execution_count": 4,
   "metadata": {},
   "outputs": [
    {
     "data": {
      "image/png": "[encoded data removed]",
      "text/latex": [
       "$$\\frac{x^{5}}{120} - \\frac{x^{3}}{6} + x$$"
      ],
      "text/plain": [
       "  5    3    \n",
       " x    x     \n",
       "─── - ── + x\n",
       "120   6     "
      ]
     },
     "execution_count": 4,
     "metadata": {},
     "output_type": "execute_result"
    }
   ],
   "source": [
    "sy.init_printing()\n",
    "x = sy.Symbol('x')\n",
    "taylor(sy.sin(x), x , 0, 7)"
   ]
  }
 ],
 "metadata": {
  "kernelspec": {
   "display_name": "Python 3",
   "language": "python",
   "name": "python3"
  },
  "language_info": {
   "codemirror_mode": {
    "name": "ipython",
    "version": 3
   },
   "file_extension": ".py",
   "mimetype": "text/x-python",
   "name": "python",
   "nbconvert_exporter": "python",
   "pygments_lexer": "ipython3",
   "version": "3.6.1"
  }
 },
 "nbformat": 4,
 "nbformat_minor": 2
}
