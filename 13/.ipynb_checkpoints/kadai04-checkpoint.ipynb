{
 "cells": [
  {
   "cell_type": "code",
   "execution_count": 40,
   "metadata": {},
   "outputs": [],
   "source": [
    "import numpy as np\n",
    "size = int(1e7)\n",
    "randx = np.random.uniform(-2,2,size)\n",
    "randy = np.random.uniform(-2,2,size)\n",
    "randz = np.random.uniform(-2,2,size)\n",
    "cube = 4**3 #今考えている立方体の体積\n",
    "ellipsoid = 2*randx**2 + 3*randy**2 + randz**2\n",
    "innerellip = (ellipsoid <= 4) #楕円球内の点はTrueとなる"
   ]
  },
  {
   "cell_type": "code",
   "execution_count": 41,
   "metadata": {},
   "outputs": [],
   "source": [
    "surface = randx +randy + 2*randz\n",
    "uppersur = ( surface >= 1 ) #平面より上の点はTrueとなる"
   ]
  },
  {
   "cell_type": "code",
   "execution_count": 42,
   "metadata": {},
   "outputs": [
    {
     "data": {
      "text/plain": [
       "4.5485888"
      ]
     },
     "execution_count": 42,
     "metadata": {},
     "output_type": "execute_result"
    }
   ],
   "source": [
    "bothinner = innerellip*uppersur #楕円球内かつ平面より上の点がTrueとなる\n",
    "ans = cube*len(bothinner[bothinner == True])/size\n",
    "ans"
   ]
  }
 ],
 "metadata": {
  "kernelspec": {
   "display_name": "Python 3",
   "language": "python",
   "name": "python3"
  },
  "language_info": {
   "codemirror_mode": {
    "name": "ipython",
    "version": 3
   },
   "file_extension": ".py",
   "mimetype": "text/x-python",
   "name": "python",
   "nbconvert_exporter": "python",
   "pygments_lexer": "ipython3",
   "version": "3.6.1"
  }
 },
 "nbformat": 4,
 "nbformat_minor": 2
}
