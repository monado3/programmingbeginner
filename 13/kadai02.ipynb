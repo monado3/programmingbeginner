{
 "cells": [
  {
   "cell_type": "code",
   "execution_count": 1,
   "metadata": {
    "collapsed": true
   },
   "outputs": [],
   "source": [
    "import sympy as sy"
   ]
  },
  {
   "cell_type": "code",
   "execution_count": 2,
   "metadata": {
    "collapsed": true
   },
   "outputs": [],
   "source": [
    "def legendre(n,x):\n",
    "    if n == 0:\n",
    "        return 1\n",
    "    elif n == 1:\n",
    "        return x\n",
    "    else :\n",
    "        return sy.expand(((2*n-1)*x*legendre(n-1,x) - (n-1)*legendre(n-2,x))/n)"
   ]
  },
  {
   "cell_type": "code",
   "execution_count": 5,
   "metadata": {},
   "outputs": [
    {
     "data": {
      "image/png": "[encoded data removed]",
      "text/latex": [
       "$$\\frac{35 x^{4}}{8} - \\frac{15 x^{2}}{4} + \\frac{3}{8}$$"
      ],
      "text/plain": [
       "    4       2    \n",
       "35⋅x    15⋅x    3\n",
       "───── - ───── + ─\n",
       "  8       4     8"
      ]
     },
     "execution_count": 5,
     "metadata": {},
     "output_type": "execute_result"
    }
   ],
   "source": [
    "sy.init_printing()\n",
    "x = sy.Symbol('x')\n",
    "legendre(4,x)"
   ]
  },
  {
   "cell_type": "code",
   "execution_count": 6,
   "metadata": {},
   "outputs": [
    {
     "data": {
      "image/png": "[encoded data removed]",
      "text/latex": [
       "$$\\frac{46189 x^{10}}{256} - \\frac{109395 x^{8}}{256} + \\frac{45045 x^{6}}{128} - \\frac{15015 x^{4}}{128} + \\frac{3465 x^{2}}{256} - \\frac{63}{256}$$"
      ],
      "text/plain": [
       "       10           8          6          4         2      \n",
       "46189⋅x     109395⋅x    45045⋅x    15015⋅x    3465⋅x     63\n",
       "───────── - ───────── + ──────── - ──────── + ─────── - ───\n",
       "   256         256        128        128        256     256"
      ]
     },
     "execution_count": 6,
     "metadata": {},
     "output_type": "execute_result"
    }
   ],
   "source": [
    "legendre(10,x)"
   ]
  }
 ],
 "metadata": {
  "kernelspec": {
   "display_name": "Python 3",
   "language": "python",
   "name": "python3"
  },
  "language_info": {
   "codemirror_mode": {
    "name": "ipython",
    "version": 3
   },
   "file_extension": ".py",
   "mimetype": "text/x-python",
   "name": "python",
   "nbconvert_exporter": "python",
   "pygments_lexer": "ipython3",
   "version": "3.6.1"
  }
 },
 "nbformat": 4,
 "nbformat_minor": 2
}
