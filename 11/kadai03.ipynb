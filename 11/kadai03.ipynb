{
 "cells": [
  {
   "cell_type": "code",
   "execution_count": 2,
   "metadata": {
    "collapsed": true
   },
   "outputs": [],
   "source": [
    "class Matrix:\n",
    "    def __init__(self,a,b,c,d):\n",
    "        self.a=a\n",
    "        self.b=b\n",
    "        self.c=c\n",
    "        self.d=d\n",
    "    \n",
    "    def __repr__(self):\n",
    "        s=f'[[{self.a}, {self.b}],\\n  [{self.c}, {self.d}]]'\n",
    "        return s\n",
    "    \n",
    "    def __add__(self,given):\n",
    "        if type(given)==Matrix:\n",
    "            return Matrix(self.a+given.a, self.b+given.b, self.c+given.c, self.d+given.d)\n",
    "        else: #各成分に足す\n",
    "            return Matrix(self.a+given, self.b+given, self.c+given, self.d+given)\n",
    "    \n",
    "    def __sub__(self,given):\n",
    "        if type(given)==Matrix:\n",
    "            return Matrix(self.a-given.a, self.b-given.b, self.c-given.c, self.d-given.d)\n",
    "        else: #各成分に引く\n",
    "            return Matrix(self.a-given, self.b-given, self.c-given, self.d-given)\n",
    "    \n",
    "    def __mul__(self,given):\n",
    "        if type(given)==Matrix:\n",
    "            return Matrix(self.a*given.a + self.b*given.c, self.a*given.b + self.b*given.d,\\\n",
    "                                self.c*given.a + self.d*given.c, self.c*given.b + self.d*given.d) \n",
    "        else: #各成分にかける\n",
    "            return Matrix(self.a*given, self.b*given, self.c*given, self.d*given)\n",
    "    \n",
    "    def inverse(self):\n",
    "        ad_bc=ad_bc=self.a*self.d - self.b*self.c\n",
    "        if ad_bc==0:\n",
    "            raise ValueError(\"This matrix isn't singular.\")\n",
    "        else:\n",
    "            return Matrix(self.d, -1*self.b, -1*self.c, self.a)*(1/ad_bc)\n",
    "    \n",
    "    def __pow__(self,given):\n",
    "        if given==0:\n",
    "            return Matrix(1,0,0,1)\n",
    "        elif given>0:\n",
    "            if given==1:\n",
    "                return self\n",
    "            else:\n",
    "                return self*(self**(given-1))   \n",
    "        else:\n",
    "            if given==-1:\n",
    "                return self.inverse()\n",
    "            else:\n",
    "                return self.inverse()**(-1*given)"
   ]
  },
  {
   "cell_type": "code",
   "execution_count": 3,
   "metadata": {},
   "outputs": [
    {
     "data": {
      "text/plain": [
       "[[13, 21],\n",
       "  [21, 34]]"
      ]
     },
     "execution_count": 3,
     "metadata": {},
     "output_type": "execute_result"
    }
   ],
   "source": [
    "m1=Matrix(2,3,3,5)\n",
    "m2=Matrix(2,3,0,5)\n",
    "m1**2"
   ]
  }
 ],
 "metadata": {
  "kernelspec": {
   "display_name": "Python 3",
   "language": "python",
   "name": "python3"
  },
  "language_info": {
   "codemirror_mode": {
    "name": "ipython",
    "version": 3
   },
   "file_extension": ".py",
   "mimetype": "text/x-python",
   "name": "python",
   "nbconvert_exporter": "python",
   "pygments_lexer": "ipython3",
   "version": "3.6.1"
  }
 },
 "nbformat": 4,
 "nbformat_minor": 2
}
