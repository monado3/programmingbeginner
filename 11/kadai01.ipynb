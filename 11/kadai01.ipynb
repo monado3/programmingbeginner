{
 "cells": [
  {
   "cell_type": "code",
   "execution_count": 33,
   "metadata": {
    "collapsed": true
   },
   "outputs": [],
   "source": [
    "import math"
   ]
  },
  {
   "cell_type": "code",
   "execution_count": 55,
   "metadata": {},
   "outputs": [],
   "source": [
    "class MyRational:\n",
    "    def __init__(self,a,b): #a/b\n",
    "        if b<=0 or a<0:\n",
    "            raise ValueError('Domain is 0<=a & 0<b.')\n",
    "        elif type(a)!=int or type(b)!=int:\n",
    "            raise TypeError(\"'a' and 'b' need to be integer.\")\n",
    "        else:\n",
    "            self.a=a//math.gcd(a,b)\n",
    "            self.b=b//math.gcd(a,b)\n",
    "    def __repr__(self):\n",
    "        if self.b==1:\n",
    "            return str(self.a)\n",
    "        else:\n",
    "            return str(self.a) + ' / ' + str(self.b)\n",
    "    def __add__(self,other):\n",
    "        newb = self.b*other.b//math.gcd(self.b,other.b)\n",
    "        newa = self.a*(newb//self.b) + other.a*(newb//other.b)\n",
    "        return MyRational(newa,newb)\n",
    "    def __mul__(self,other):\n",
    "        return MyRational(self.a*other.a,self.b*other.b)"
   ]
  },
  {
   "cell_type": "code",
   "execution_count": 56,
   "metadata": {},
   "outputs": [
    {
     "name": "stdout",
     "output_type": "stream",
     "text": [
      "1 / 3\n",
      "1\n",
      "4 / 3\n",
      "1 / 3\n"
     ]
    }
   ],
   "source": [
    "r1=MyRational(1,3)\n",
    "r2=MyRational(3,3)\n",
    "print(r1)\n",
    "print(r2)\n",
    "print(r1+ r2)\n",
    "print(r1*r2)"
   ]
  }
 ],
 "metadata": {
  "kernelspec": {
   "display_name": "Python 3",
   "language": "python",
   "name": "python3"
  },
  "language_info": {
   "codemirror_mode": {
    "name": "ipython",
    "version": 3
   },
   "file_extension": ".py",
   "mimetype": "text/x-python",
   "name": "python",
   "nbconvert_exporter": "python",
   "pygments_lexer": "ipython3",
   "version": "3.6.1"
  }
 },
 "nbformat": 4,
 "nbformat_minor": 2
}
