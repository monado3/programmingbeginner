{
 "cells": [
  {
   "cell_type": "code",
   "execution_count": 21,
   "metadata": {
    "collapsed": true
   },
   "outputs": [],
   "source": [
    "import math"
   ]
  },
  {
   "cell_type": "code",
   "execution_count": 22,
   "metadata": {
    "collapsed": true
   },
   "outputs": [],
   "source": [
    "class MyRational:\n",
    "    def __init__(self,a,b): #a/b\n",
    "        if b<=0 or a<0:\n",
    "            raise ValueError('Domain is 0<=a & 0<b.')\n",
    "        elif type(a)!=int or type(b)!=int:\n",
    "            raise TypeError(\"Arguments need to be integer.\")\n",
    "        else:\n",
    "            self.a=a//math.gcd(a,b)\n",
    "            self.b=b//math.gcd(a,b)\n",
    "    def __repr__(self):\n",
    "        if self.b==1:\n",
    "            return str(self.a)\n",
    "        else:\n",
    "            return str(self.a) + ' / ' + str(self.b)\n",
    "    def __add__(self,other):\n",
    "        newb = self.b*other.b//math.gcd(self.b,other.b)\n",
    "        newa = self.a*(newb//self.b) + other.a*(newb//other.b)\n",
    "        return MyRational(newa,newb)\n",
    "    def __mul__(self,other):\n",
    "        return MyRational(self.a*other.a,self.b*other.b)"
   ]
  },
  {
   "cell_type": "code",
   "execution_count": 55,
   "metadata": {},
   "outputs": [],
   "source": [
    "class MyInteger(MyRational):\n",
    "    def __init__(self,num):\n",
    "        if type(num)!=int:\n",
    "            raise TypeError(\"The argument needs to be int.\")\n",
    "        elif num<0:\n",
    "            raise ValueError(\"The argument needs to be not minus.\")\n",
    "        else:\n",
    "            super().__init__(num,1)\n",
    "    def factorial(self):\n",
    "        if self.a==1 or self.a==0:\n",
    "            return 1\n",
    "        else:\n",
    "            return self.a*MyInteger(self.a-1).factorial()\n",
    "    def is_prime(self):\n",
    "        if self.a == 2:\n",
    "            return True\n",
    "        elif self.a ==1or self.a%2==0:\n",
    "            return False\n",
    "        for i in range(3,self.a//2+1,2):\n",
    "            if self.a%i == 0:\n",
    "                return False\n",
    "        return True"
   ]
  },
  {
   "cell_type": "code",
   "execution_count": 68,
   "metadata": {},
   "outputs": [
    {
     "data": {
      "text/plain": [
       "720"
      ]
     },
     "execution_count": 68,
     "metadata": {},
     "output_type": "execute_result"
    }
   ],
   "source": [
    "i1=MyInteger(6)\n",
    "i1.factorial()"
   ]
  },
  {
   "cell_type": "code",
   "execution_count": 69,
   "metadata": {},
   "outputs": [
    {
     "data": {
      "text/plain": [
       "True"
      ]
     },
     "execution_count": 69,
     "metadata": {},
     "output_type": "execute_result"
    }
   ],
   "source": [
    "i2=MyInteger(3)\n",
    "i2.is_prime()"
   ]
  }
 ],
 "metadata": {
  "kernelspec": {
   "display_name": "Python 3",
   "language": "python",
   "name": "python3"
  },
  "language_info": {
   "codemirror_mode": {
    "name": "ipython",
    "version": 3
   },
   "file_extension": ".py",
   "mimetype": "text/x-python",
   "name": "python",
   "nbconvert_exporter": "python",
   "pygments_lexer": "ipython3",
   "version": "3.6.1"
  }
 },
 "nbformat": 4,
 "nbformat_minor": 2
}
