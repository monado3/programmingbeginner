{
 "cells": [
  {
   "cell_type": "code",
   "execution_count": 2,
   "metadata": {
    "collapsed": true
   },
   "outputs": [],
   "source": [
    "class SingularMatrixException(Exception):\n",
    "    pass"
   ]
  },
  {
   "cell_type": "code",
   "execution_count": 3,
   "metadata": {
    "collapsed": true
   },
   "outputs": [],
   "source": [
    "class Matrix:\n",
    "    def __init__(self,a,b,c,d):\n",
    "        self.a=a\n",
    "        self.b=b\n",
    "        self.c=c\n",
    "        self.d=d\n",
    "    \n",
    "    def __repr__(self):\n",
    "        s=f'[[{self.a}, {self.b}],\\n  [{self.c}, {self.d}]]'\n",
    "        return s\n",
    "    \n",
    "    def __add__(self,given):\n",
    "        if type(given)==Matrix:\n",
    "            return Matrix(self.a+given.a, self.b+given.b, self.c+given.c, self.d+given.d)\n",
    "        else: #各成分に足す\n",
    "            return Matrix(self.a+given, self.b+given, self.c+given, self.d+given)\n",
    "    \n",
    "    def __sub__(self,given):\n",
    "        if type(given)==Matrix:\n",
    "            return Matrix(self.a-given.a, self.b-given.b, self.c-given.c, self.d-given.d)\n",
    "        else: #各成分に引く\n",
    "            return Matrix(self.a-given, self.b-given, self.c-given, self.d-given)\n",
    "    \n",
    "    def __mul__(self,given):\n",
    "        if type(given)==Matrix:\n",
    "            return Matrix(self.a*given.a + self.b*given.c, self.a*given.b + self.b*given.d,\\\n",
    "                                self.c*given.a + self.d*given.c, self.c*given.b + self.d*given.d) \n",
    "        else: #各成分にかける\n",
    "            return Matrix(self.a*given, self.b*given, self.c*given, self.d*given)\n",
    "    \n",
    "    def inverse(self):\n",
    "        ad_bc=self.a*self.d - self.b*self.c\n",
    "        if ad_bc==0:\n",
    "            raise SingularMatrixException\n",
    "        else:\n",
    "            return Matrix(self.d, -1*self.b, -1*self.c, self.a)*(1/ad_bc)\n",
    "    \n",
    "    def __pow__(self,given):\n",
    "        if given==0:\n",
    "            return Matrix(1,0,0,1)\n",
    "        elif given>0:\n",
    "            if given==1:\n",
    "                return self\n",
    "            else:\n",
    "                return self*(self**(given-1))   \n",
    "        else:\n",
    "            if given==-1:\n",
    "                return self.inverse()\n",
    "            else:\n",
    "                return self.inverse()**(-1*given)"
   ]
  },
  {
   "cell_type": "code",
   "execution_count": 4,
   "metadata": {},
   "outputs": [
    {
     "data": {
      "text/plain": [
       "[[3.0, -2.0],\n",
       "  [-4.0, 3.0]]"
      ]
     },
     "execution_count": 4,
     "metadata": {},
     "output_type": "execute_result"
    }
   ],
   "source": [
    "m1=Matrix(3,2,4,3)\n",
    "m2=Matrix(2,3,0,5)\n",
    "m1.inverse()"
   ]
  },
  {
   "cell_type": "code",
   "execution_count": 11,
   "metadata": {},
   "outputs": [
    {
     "ename": "SingularMatrixException",
     "evalue": "",
     "output_type": "error",
     "traceback": [
      "\u001b[0;31m---------------------------------------------------------------------------\u001b[0m",
      "\u001b[0;31mSingularMatrixException\u001b[0m                   Traceback (most recent call last)",
      "\u001b[0;32m<ipython-input-11-713067c4f03e>\u001b[0m in \u001b[0;36m<module>\u001b[0;34m()\u001b[0m\n\u001b[1;32m      1\u001b[0m \u001b[0mm3\u001b[0m\u001b[0;34m=\u001b[0m\u001b[0mMatrix\u001b[0m\u001b[0;34m(\u001b[0m\u001b[0;36m2\u001b[0m\u001b[0;34m,\u001b[0m\u001b[0;36m3\u001b[0m\u001b[0;34m,\u001b[0m\u001b[0;36m2\u001b[0m\u001b[0;34m,\u001b[0m\u001b[0;36m3\u001b[0m\u001b[0;34m)\u001b[0m\u001b[0;34m\u001b[0m\u001b[0m\n\u001b[0;32m----> 2\u001b[0;31m \u001b[0mm3\u001b[0m\u001b[0;34m.\u001b[0m\u001b[0minverse\u001b[0m\u001b[0;34m(\u001b[0m\u001b[0;34m)\u001b[0m\u001b[0;34m\u001b[0m\u001b[0m\n\u001b[0m",
      "\u001b[0;32m<ipython-input-3-b2b885377a3e>\u001b[0m in \u001b[0;36minverse\u001b[0;34m(self)\u001b[0m\n\u001b[1;32m     31\u001b[0m         \u001b[0mad_bc\u001b[0m\u001b[0;34m=\u001b[0m\u001b[0mself\u001b[0m\u001b[0;34m.\u001b[0m\u001b[0ma\u001b[0m\u001b[0;34m*\u001b[0m\u001b[0mself\u001b[0m\u001b[0;34m.\u001b[0m\u001b[0md\u001b[0m \u001b[0;34m-\u001b[0m \u001b[0mself\u001b[0m\u001b[0;34m.\u001b[0m\u001b[0mb\u001b[0m\u001b[0;34m*\u001b[0m\u001b[0mself\u001b[0m\u001b[0;34m.\u001b[0m\u001b[0mc\u001b[0m\u001b[0;34m\u001b[0m\u001b[0m\n\u001b[1;32m     32\u001b[0m         \u001b[0;32mif\u001b[0m \u001b[0mad_bc\u001b[0m\u001b[0;34m==\u001b[0m\u001b[0;36m0\u001b[0m\u001b[0;34m:\u001b[0m\u001b[0;34m\u001b[0m\u001b[0m\n\u001b[0;32m---> 33\u001b[0;31m             \u001b[0;32mraise\u001b[0m \u001b[0mSingularMatrixException\u001b[0m\u001b[0;34m\u001b[0m\u001b[0m\n\u001b[0m\u001b[1;32m     34\u001b[0m         \u001b[0;32melse\u001b[0m\u001b[0;34m:\u001b[0m\u001b[0;34m\u001b[0m\u001b[0m\n\u001b[1;32m     35\u001b[0m             \u001b[0;32mreturn\u001b[0m \u001b[0mMatrix\u001b[0m\u001b[0;34m(\u001b[0m\u001b[0mself\u001b[0m\u001b[0;34m.\u001b[0m\u001b[0md\u001b[0m\u001b[0;34m,\u001b[0m \u001b[0;34m-\u001b[0m\u001b[0;36m1\u001b[0m\u001b[0;34m*\u001b[0m\u001b[0mself\u001b[0m\u001b[0;34m.\u001b[0m\u001b[0mb\u001b[0m\u001b[0;34m,\u001b[0m \u001b[0;34m-\u001b[0m\u001b[0;36m1\u001b[0m\u001b[0;34m*\u001b[0m\u001b[0mself\u001b[0m\u001b[0;34m.\u001b[0m\u001b[0mc\u001b[0m\u001b[0;34m,\u001b[0m \u001b[0mself\u001b[0m\u001b[0;34m.\u001b[0m\u001b[0ma\u001b[0m\u001b[0;34m)\u001b[0m\u001b[0;34m*\u001b[0m\u001b[0;34m(\u001b[0m\u001b[0;36m1\u001b[0m\u001b[0;34m/\u001b[0m\u001b[0mad_bc\u001b[0m\u001b[0;34m)\u001b[0m\u001b[0;34m\u001b[0m\u001b[0m\n",
      "\u001b[0;31mSingularMatrixException\u001b[0m: "
     ]
    }
   ],
   "source": [
    "m3=Matrix(2,3,2,3)\n",
    "m3.inverse()"
   ]
  }
 ],
 "metadata": {
  "kernelspec": {
   "display_name": "Python 3",
   "language": "python",
   "name": "python3"
  },
  "language_info": {
   "codemirror_mode": {
    "name": "ipython",
    "version": 3
   },
   "file_extension": ".py",
   "mimetype": "text/x-python",
   "name": "python",
   "nbconvert_exporter": "python",
   "pygments_lexer": "ipython3",
   "version": "3.6.1"
  }
 },
 "nbformat": 4,
 "nbformat_minor": 2
}
